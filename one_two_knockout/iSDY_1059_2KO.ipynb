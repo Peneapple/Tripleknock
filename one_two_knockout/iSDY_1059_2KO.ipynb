{
 "cells": [
  {
   "cell_type": "code",
   "execution_count": 6,
   "id": "34c98ebc-03c7-4503-8486-1bf9c46048b1",
   "metadata": {},
   "outputs": [],
   "source": [
    "import cobra\n",
    "model = cobra.io.read_sbml_model('/data1/xpgeng/cross_pathogen/GEM_model/iSDY_1059.xml')"
   ]
  },
  {
   "cell_type": "code",
   "execution_count": 7,
   "id": "7dca2673-3e19-4283-8b19-c34848ef3aa4",
   "metadata": {},
   "outputs": [
    {
     "name": "stdout",
     "output_type": "stream",
     "text": [
      "1059\n"
     ]
    }
   ],
   "source": [
    "import csv\n",
    "one_gene = {}\n",
    "with open('/data1/xpgeng/cross_pathogen/one_two_knockout/' +'iSDY_1059_1KO_growth', 'r') as csvfile:\n",
    "    reader = csv.reader(csvfile)\n",
    "    next(reader) \n",
    "    for row in reader:\n",
    "        #print(len(row))\n",
    "        if len(row) == 4:            \n",
    "            one_gene[row[0]] = int(row[3])           \n",
    "    print(len(one_gene)) "
   ]
  },
  {
   "cell_type": "code",
   "execution_count": 8,
   "id": "ce769686-262f-4511-8621-0de6024f7117",
   "metadata": {},
   "outputs": [
    {
     "name": "stdout",
     "output_type": "stream",
     "text": [
      "1059\n"
     ]
    }
   ],
   "source": [
    "gene_list = []\n",
    "for k,v in one_gene.items():\n",
    "    gene_list.append(k)\n",
    "print(len(gene_list))"
   ]
  },
  {
   "cell_type": "code",
   "execution_count": 9,
   "id": "711d2729-bf53-43ea-8efe-0c6357235abc",
   "metadata": {},
   "outputs": [],
   "source": [
    "from itertools import combinations\n",
    "twogene=list(combinations(gene_list,2))\n",
    "from tqdm import tqdm"
   ]
  },
  {
   "cell_type": "code",
   "execution_count": null,
   "id": "cc90b670-90fb-49bb-8886-3e6adfb66f0d",
   "metadata": {},
   "outputs": [
    {
     "name": "stderr",
     "output_type": "stream",
     "text": [
      "  0%|                          | 11/560211 [00:04<60:11:14,  2.59it/s]"
     ]
    }
   ],
   "source": [
    "with open('iSDY_1059_2KO_growth', mode='a', newline='') as csvfile:\n",
    "    writer = csv.writer(csvfile)\n",
    "    firstrow = ['gene, label']\n",
    "    writer.writerow(firstrow)  \n",
    "\n",
    "    state_0   = cobra.flux_analysis.pfba(model)      \n",
    "    growth_0    = round(state_0['BIOMASS_Ec_iJO1366_core_53p95M'], 3)\n",
    "\n",
    "    for i in tqdm(twogene):   \n",
    "        with model:                \n",
    "            try:            \n",
    "                model.genes.get_by_id(i[0]).knock_out()\n",
    "                model.genes.get_by_id(i[1]).knock_out()\n",
    "                state_1   = cobra.flux_analysis.pfba(model)\n",
    "                growth_1    = round(state_1['BIOMASS_Ec_iJO1366_core_53p95M'], 3)\n",
    "                if growth_1 < 0.1*growth_0:\n",
    "                    \n",
    "                    writer.writerow([i[0], i[1], growth_0, growth_1, 1]) \n",
    "                else:\n",
    "                    writer.writerow([i[0], i[1], growth_0, growth_1, 0])\n",
    "            except:\n",
    "                writer.writerow([i, 'fail'])"
   ]
  },
  {
   "cell_type": "code",
   "execution_count": 6,
   "id": "a2888dd3-afa3-45a2-88b2-68b1b0912c37",
   "metadata": {},
   "outputs": [
    {
     "name": "stdout",
     "output_type": "stream",
     "text": [
      "355730\n"
     ]
    }
   ],
   "source": [
    "two_gene = {}\n",
    "with open('/home/user/Desktop/pine/cross_pathogen/FBA/' +'iSDY_1059_2KO_growth', 'r') as csvfile:\n",
    "    reader = csv.reader(csvfile)\n",
    "    next(reader) \n",
    "    for row in reader:\n",
    "        #print(len(row))\n",
    "        if len(row) == 5:            \n",
    "            two_gene[row[0], row[1]] = int(row[4])           \n",
    "    print(len(two_gene)) "
   ]
  },
  {
   "cell_type": "code",
   "execution_count": 7,
   "id": "b08f218d-9246-4cb1-814c-b9fd53e0ed0a",
   "metadata": {},
   "outputs": [
    {
     "name": "stdout",
     "output_type": "stream",
     "text": [
      "['SDY_3053', 'SDY_0927', 'SDY_2741', 'SDY_3169', 'SDY_2741', 'SDY_4649', 'SDY_0927', 'SDY_0389', 'SDY_0927', 'SDY_3899', 'SDY_0071', 'SDY_1547', 'SDY_3378', 'SDY_2905', 'SDY_4155', 'SDY_0108', 'SDY_4155', 'SDY_0107', 'SDY_0108', 'SDY_4154', 'SDY_4154', 'SDY_0107', 'SDY_1135', 'SDY_2689', 'SDY_3242', 'SDY_4533', 'SDY_2060', 'SDY_4533', 'SDY_0445', 'SDY_4122', 'SDY_0445', 'SDY_2714', 'SDY_0445', 'SDY_1256', 'SDY_3155', 'SDY_1488', 'SDY_1488', 'SDY_3826', 'SDY_0608', 'SDY_4004', 'SDY_0002', 'SDY_3775', 'SDY_2996', 'SDY_1794', 'SDY_0146', 'SDY_0666', 'SDY_0146', 'SDY_0667', 'SDY_0664', 'SDY_0666', 'SDY_0664', 'SDY_0667', 'SDY_0665', 'SDY_0666', 'SDY_0665', 'SDY_0667', 'SDY_0122', 'SDY_0365', 'ybcF', 'SDY_0054', 'ybcF', 'SDY_0055', 'SDY_2212', 'SDY_3693', 'SDY_1564', 'SDY_0171', 'SDY_3562', 'SDY_2373', 'SDY_2634', 'SDY_3876', 'SDY_3065', 'SDY_1845', 'SDY_2611', 'SDY_2617', 'puuA', 'SDY_3873', 'SDY_2348', 'SDY_2943', 'SDY_2348', 'SDY_0187', 'SDY_0710', 'SDY_2619', 'SDY_0710', 'SDY_2618', 'SDY_0710', 'SDY_2620', 'SDY_2619', 'SDY_0712', 'SDY_2619', 'SDY_0711', 'SDY_1514', 'SDY_3393', 'SDY_1514', 'SDY_3394', 'SDY_1475', 'SDY_3458', 'SDY_4122', 'SDY_1256', 'SDY_0165', 'SDY_3682', 'SDY_0355', 'SDY_3689', 'SDY_3914', 'SDY_4322', 'SDY_0712', 'SDY_2618', 'SDY_0712', 'SDY_2620', 'SDY_0711', 'SDY_2618', 'SDY_0711', 'SDY_2620', 'SDY_1354', 'SDY_0843', 'SDY_3976', 'SDY_3309', 'SDY_3156', 'SDY_3826', 'SDY_3086', 'SDY_4025', 'SDY_3086', 'SDY_4024', 'SDY_3086', 'SDY_4023', 'SDY_3086', 'SDY_4022']\n"
     ]
    }
   ],
   "source": [
    "two_list = []\n",
    "for k,v in two_gene.items():\n",
    "    if v == 1:\n",
    "        two_list.append(k[0])\n",
    "        two_list.append(k[1])\n",
    "print(two_list)"
   ]
  },
  {
   "cell_type": "code",
   "execution_count": 8,
   "id": "5ac48698-4f71-4d2c-bb7b-d790a20f46aa",
   "metadata": {},
   "outputs": [
    {
     "name": "stdout",
     "output_type": "stream",
     "text": [
      "87\n"
     ]
    }
   ],
   "source": [
    "print(len(set(two_list)))"
   ]
  },
  {
   "cell_type": "code",
   "execution_count": null,
   "id": "f10151e1-82f2-4473-b4f4-3ffd9dd406f7",
   "metadata": {},
   "outputs": [],
   "source": []
  }
 ],
 "metadata": {
  "kernelspec": {
   "display_name": "Python 3 (ipykernel)",
   "language": "python",
   "name": "python3"
  },
  "language_info": {
   "codemirror_mode": {
    "name": "ipython",
    "version": 3
   },
   "file_extension": ".py",
   "mimetype": "text/x-python",
   "name": "python",
   "nbconvert_exporter": "python",
   "pygments_lexer": "ipython3",
   "version": "3.8.16"
  }
 },
 "nbformat": 4,
 "nbformat_minor": 5
}
