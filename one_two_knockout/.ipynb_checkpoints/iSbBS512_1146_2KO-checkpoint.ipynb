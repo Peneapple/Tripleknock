{
 "cells": [
  {
   "cell_type": "code",
   "execution_count": 2,
   "id": "bf60d05a-0357-4bec-8fc6-7b6ee73e54ea",
   "metadata": {},
   "outputs": [
    {
     "name": "stdout",
     "output_type": "stream",
     "text": [
      "Scaling...\n",
      " A: min|aij| =  1.000e+00  max|aij| =  1.000e+00  ratio =  1.000e+00\n",
      "Problem data seem to be well scaled\n"
     ]
    }
   ],
   "source": [
    "import cobra\n",
    "model = cobra.io.read_sbml_model('/data1/xpgeng/cross_pathogen/GEM_model/iSbBS512_1146.xml')"
   ]
  },
  {
   "cell_type": "code",
   "execution_count": 1,
   "id": "2f9ab7e4-9cee-4c5f-9537-851caa2134f2",
   "metadata": {},
   "outputs": [
    {
     "name": "stdout",
     "output_type": "stream",
     "text": [
      "1147\n"
     ]
    }
   ],
   "source": [
    "import csv\n",
    "one_gene = {}\n",
    "with open('/data1/xpgeng/cross_pathogen/one_two_knockout/' +'iSbBS512_1146_1KO_growth', 'r') as csvfile:\n",
    "    reader = csv.reader(csvfile)\n",
    "    next(reader) \n",
    "    for row in reader:\n",
    "        #print(len(row))\n",
    "        if len(row) == 4:            \n",
    "            one_gene[row[0]] = int(row[3])           \n",
    "    print(len(one_gene)) "
   ]
  },
  {
   "cell_type": "code",
   "execution_count": 4,
   "id": "26a3edb0-58cb-4834-b7d5-bb7a071d6430",
   "metadata": {},
   "outputs": [
    {
     "name": "stdout",
     "output_type": "stream",
     "text": [
      "1147\n"
     ]
    }
   ],
   "source": [
    "gene_list = []\n",
    "for k,v in one_gene.items():\n",
    "    gene_list.append(k)\n",
    "print(len(gene_list))"
   ]
  },
  {
   "cell_type": "code",
   "execution_count": 5,
   "id": "cc0be3dc-93e2-4968-9fbc-15ceecd6c773",
   "metadata": {},
   "outputs": [],
   "source": [
    "from itertools import combinations\n",
    "twogene=list(combinations(gene_list,2))\n",
    "from tqdm import tqdm"
   ]
  },
  {
   "cell_type": "code",
   "execution_count": null,
   "id": "fa2d3a23-0a37-4fd9-a9f8-9f0d4e25df18",
   "metadata": {},
   "outputs": [
    {
     "name": "stderr",
     "output_type": "stream",
     "text": [
      "  1%|▎                        | 7695/657231 [05:46<2:19:54, 77.38it/s]"
     ]
    }
   ],
   "source": [
    "with open('iSbBS512_1146_2KO_growth', mode='a', newline='') as csvfile:\n",
    "    writer = csv.writer(csvfile)\n",
    "    firstrow = ['gene, label']\n",
    "    writer.writerow(firstrow)  \n",
    "\n",
    "    state_0   = cobra.flux_analysis.pfba(model)      \n",
    "    growth_0    = round(state_0['BIOMASS_Ec_iJO1366_core_53p95M'], 3)\n",
    "\n",
    "    for i in tqdm(twogene):   \n",
    "        with model:                \n",
    "            try:            \n",
    "                model.genes.get_by_id(i[0]).knock_out()\n",
    "                model.genes.get_by_id(i[1]).knock_out()\n",
    "                state_1   = cobra.flux_analysis.pfba(model)\n",
    "                growth_1    = round(state_1['BIOMASS_Ec_iJO1366_core_53p95M'], 3)\n",
    "                if growth_1 < 0.1*growth_0:\n",
    "                    \n",
    "                    writer.writerow([i[0], i[1], growth_0, growth_1, 1]) \n",
    "                else:\n",
    "                    writer.writerow([i[0], i[1], growth_0, growth_1, 0])\n",
    "            except:\n",
    "                writer.writerow([i, 'fail'])"
   ]
  },
  {
   "cell_type": "code",
   "execution_count": null,
   "id": "ffe1521c-556e-46ea-ad56-fe3f1040cbce",
   "metadata": {},
   "outputs": [],
   "source": []
  }
 ],
 "metadata": {
  "kernelspec": {
   "display_name": "Python 3 (ipykernel)",
   "language": "python",
   "name": "python3"
  },
  "language_info": {
   "codemirror_mode": {
    "name": "ipython",
    "version": 3
   },
   "file_extension": ".py",
   "mimetype": "text/x-python",
   "name": "python",
   "nbconvert_exporter": "python",
   "pygments_lexer": "ipython3",
   "version": "3.8.16"
  }
 },
 "nbformat": 4,
 "nbformat_minor": 5
}
