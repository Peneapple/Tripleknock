{
 "cells": [
  {
   "cell_type": "code",
   "execution_count": 1,
   "id": "dfae4c32-775e-4572-af6c-1134b6608185",
   "metadata": {},
   "outputs": [
    {
     "name": "stdout",
     "output_type": "stream",
     "text": [
      "Scaling...\n",
      " A: min|aij| =  1.000e+00  max|aij| =  1.000e+00  ratio =  1.000e+00\n",
      "Problem data seem to be well scaled\n"
     ]
    }
   ],
   "source": [
    "import cobra\n",
    "model = cobra.io.read_sbml_model('/data1/xpgeng/cross_pathogen/GEM_model/STM_v1_0.xml')"
   ]
  },
  {
   "cell_type": "code",
   "execution_count": 2,
   "id": "e1a60871-b466-4f8c-8e81-ff342bcdcaa0",
   "metadata": {},
   "outputs": [
    {
     "name": "stdout",
     "output_type": "stream",
     "text": [
      "1271\n"
     ]
    }
   ],
   "source": [
    "import csv\n",
    "one_gene = {}\n",
    "with open('/data1/xpgeng/cross_pathogen/FBA/' +'STM_v1_0_1KO_growth', 'r') as csvfile:\n",
    "    reader = csv.reader(csvfile)\n",
    "    next(reader) \n",
    "    for row in reader:\n",
    "        #print(len(row))\n",
    "        if len(row) == 4:            \n",
    "            one_gene[row[0]] = int(row[3])           \n",
    "    print(len(one_gene)) "
   ]
  },
  {
   "cell_type": "code",
   "execution_count": 3,
   "id": "9b02341c-94ec-4aa4-9eba-0fc1c1c348eb",
   "metadata": {},
   "outputs": [
    {
     "name": "stdout",
     "output_type": "stream",
     "text": [
      "1061\n"
     ]
    }
   ],
   "source": [
    "gene_list = []\n",
    "for k,v in one_gene.items():\n",
    "    gene_list.append(k)\n",
    "print(len(gene_list))"
   ]
  },
  {
   "cell_type": "code",
   "execution_count": 4,
   "id": "5f069d2d-8efe-4584-843c-0c5ce3cbec30",
   "metadata": {},
   "outputs": [],
   "source": [
    "from itertools import combinations\n",
    "twogene=list(combinations(gene_list,2))\n",
    "from tqdm import tqdm"
   ]
  },
  {
   "cell_type": "code",
   "execution_count": null,
   "id": "14999809-c6da-46dd-bb7b-84f70d3eda14",
   "metadata": {},
   "outputs": [
    {
     "name": "stderr",
     "output_type": "stream",
     "text": [
      " 24%|████████████████████▊                                                                   | 133194/562330 [11:04:52<32:50:07,  3.63it/s]"
     ]
    }
   ],
   "source": [
    "with open('STM_v1_0_2KO_growth', mode='a', newline='') as csvfile:\n",
    "    writer = csv.writer(csvfile)\n",
    "    firstrow = ['gene, label']\n",
    "    writer.writerow(firstrow)  \n",
    "\n",
    "    state_0   = cobra.flux_analysis.pfba(model)      \n",
    "    growth_0    = round(state_0['BIOMASS_iRR1083_metals'], 3)\n",
    "\n",
    "    for i in tqdm(twogene):   \n",
    "        with model:                \n",
    "            try:            \n",
    "                model.genes.get_by_id(i[0]).knock_out()\n",
    "                model.genes.get_by_id(i[1]).knock_out()\n",
    "                state_1   = cobra.flux_analysis.pfba(model)\n",
    "                growth_1    = round(state_1['BIOMASS_iRR1083_metals'], 3)\n",
    "                if growth_1 < 0.1*growth_0:\n",
    "                    \n",
    "                    writer.writerow([i[0], i[1], growth_0, growth_1, 1]) \n",
    "                else:\n",
    "                    writer.writerow([i[0], i[1], growth_0, growth_1, 0])\n",
    "            except:\n",
    "                writer.writerow([i, 'fail'])"
   ]
  },
  {
   "cell_type": "code",
   "execution_count": 22,
   "id": "de699d76",
   "metadata": {},
   "outputs": [
    {
     "name": "stdout",
     "output_type": "stream",
     "text": [
      "133179\n"
     ]
    }
   ],
   "source": [
    "for i in range(len(twogene)):\n",
    "    if twogene[i] == ('STM2440','STM3561'):\n",
    "        print(i)"
   ]
  },
  {
   "cell_type": "markdown",
   "id": "4666d396",
   "metadata": {},
   "source": [
    "133194 number gene will lead to block, so we skip it"
   ]
  },
  {
   "cell_type": "code",
   "execution_count": 7,
   "id": "73e90f2f",
   "metadata": {},
   "outputs": [
    {
     "name": "stderr",
     "output_type": "stream",
     "text": [
      "100%|██████████████████████████████████████████████████████████████████████████████████████████████████████| 14/14 [00:04<00:00,  3.14it/s]\n"
     ]
    }
   ],
   "source": [
    "with open('STM_v1_0_2KO_growth', mode='a', newline='') as csvfile:\n",
    "    writer = csv.writer(csvfile)\n",
    "\n",
    "    state_0   = cobra.flux_analysis.pfba(model)      \n",
    "    growth_0    = round(state_0['BIOMASS_iRR1083_metals'], 3)\n",
    "\n",
    "    for i in tqdm(twogene[133180:133194]):   \n",
    "        with model:                \n",
    "            try:            \n",
    "                model.genes.get_by_id(i[0]).knock_out()\n",
    "                model.genes.get_by_id(i[1]).knock_out()\n",
    "                state_1   = cobra.flux_analysis.pfba(model)\n",
    "                growth_1    = round(state_1['BIOMASS_iRR1083_metals'], 3)\n",
    "                if growth_1 < 0.5*growth_0:\n",
    "                    \n",
    "                    writer.writerow([i[0], i[1], growth_0, growth_1, 1]) \n",
    "                else:\n",
    "                    writer.writerow([i[0], i[1], growth_0, growth_1, 0])\n",
    "            except:\n",
    "                writer.writerow([i, 'fail'])"
   ]
  },
  {
   "cell_type": "code",
   "execution_count": 8,
   "id": "9c41590b",
   "metadata": {},
   "outputs": [
    {
     "data": {
      "text/plain": [
       "('STM2440', 'STM0523')"
      ]
     },
     "execution_count": 8,
     "metadata": {},
     "output_type": "execute_result"
    }
   ],
   "source": [
    "twogene[133194]"
   ]
  },
  {
   "cell_type": "code",
   "execution_count": 5,
   "id": "0a9a787b",
   "metadata": {},
   "outputs": [
    {
     "data": {
      "text/plain": [
       "('STM2440', 'STM4249')"
      ]
     },
     "execution_count": 5,
     "metadata": {},
     "output_type": "execute_result"
    }
   ],
   "source": [
    "twogene[133195]"
   ]
  },
  {
   "cell_type": "code",
   "execution_count": null,
   "id": "cbb9a2d5",
   "metadata": {},
   "outputs": [],
   "source": []
  },
  {
   "cell_type": "code",
   "execution_count": null,
   "id": "82fe9a7e",
   "metadata": {},
   "outputs": [
    {
     "name": "stderr",
     "output_type": "stream",
     "text": [
      "  0%|                                                                                              | 406/429134 [01:57<35:32:23,  3.35it/s]"
     ]
    }
   ],
   "source": [
    "with open('STM_v1_0_2KO_growth', mode='a', newline='') as csvfile:\n",
    "    writer = csv.writer(csvfile)\n",
    "\n",
    "    state_0   = cobra.flux_analysis.pfba(model)      \n",
    "    growth_0    = round(state_0['BIOMASS_iRR1083_metals'], 3)\n",
    "\n",
    "    for i in tqdm(twogene[133196:]):   \n",
    "        with model:                \n",
    "            try:            \n",
    "                model.genes.get_by_id(i[0]).knock_out()\n",
    "                model.genes.get_by_id(i[1]).knock_out()\n",
    "                state_1   = cobra.flux_analysis.pfba(model)\n",
    "                growth_1    = round(state_1['BIOMASS_iRR1083_metals'], 3)\n",
    "                if growth_1 < 0.5*growth_0:\n",
    "                    \n",
    "                    writer.writerow([i[0], i[1], growth_0, growth_1, 1]) \n",
    "                else:\n",
    "                    writer.writerow([i[0], i[1], growth_0, growth_1, 0])\n",
    "            except:\n",
    "                writer.writerow([i, 'fail'])"
   ]
  },
  {
   "cell_type": "code",
   "execution_count": 7,
   "id": "3661334a-0477-4ca9-b949-359cef1369a4",
   "metadata": {},
   "outputs": [
    {
     "name": "stdout",
     "output_type": "stream",
     "text": [
      "21887\n"
     ]
    }
   ],
   "source": [
    "two_gene = {}\n",
    "with open('/data1/xpgeng/cross_pathogen/FBA/' +'STM_v1_0_2KO_growth', 'r') as csvfile:\n",
    "    reader = csv.reader(csvfile)\n",
    "    next(reader) \n",
    "    for row in reader:\n",
    "        #print(len(row))\n",
    "        if len(row) == 5:            \n",
    "            two_gene[row[0], row[1]] = int(row[4])           \n",
    "    print(len(two_gene)) "
   ]
  },
  {
   "cell_type": "code",
   "execution_count": 8,
   "id": "57fa086b",
   "metadata": {},
   "outputs": [
    {
     "data": {
      "text/plain": [
       "562330"
      ]
     },
     "execution_count": 8,
     "metadata": {},
     "output_type": "execute_result"
    }
   ],
   "source": [
    "len(twogene)"
   ]
  },
  {
   "cell_type": "code",
   "execution_count": 9,
   "id": "33c38b43",
   "metadata": {},
   "outputs": [
    {
     "data": {
      "text/plain": [
       "[('STM4061', 'STM0739'),\n",
       " ('STM4061', 'STM2035'),\n",
       " ('STM4061', 'STM2050'),\n",
       " ('STM4061', 'STM0627'),\n",
       " ('STM4061', 'STM2467'),\n",
       " ('STM4061', 'STM2019'),\n",
       " ('STM4061', 'STM0007'),\n",
       " ('STM4061', 'STM2473'),\n",
       " ('STM4061', 'STM1599'),\n",
       " ('STM4061', 'STM3924'),\n",
       " ('STM4061', 'STM2058'),\n",
       " ('STM4061', 'STM1498'),\n",
       " ('STM4061', 'STM0644'),\n",
       " ('STM4061', 'STM3925'),\n",
       " ('STM4061', 'STM0965'),\n",
       " ('STM4061', 'STM3922'),\n",
       " ('STM4061', 'STM2034'),\n",
       " ('STM4061', 'STM2017'),\n",
       " ('STM4061', 'STM4306'),\n",
       " ('STM4061', 'STM0643'),\n",
       " ('STM4061', 'STM2088'),\n",
       " ('STM4061', 'STM2097'),\n",
       " ('STM4061', 'STM2528'),\n",
       " ('STM4061', 'STM0609'),\n",
       " ('STM4061', 'STM1499'),\n",
       " ('STM4061', 'STM0402'),\n",
       " ('STM4061', 'STM2529'),\n",
       " ('STM4061', 'STM0608'),\n",
       " ('STM4061', 'STM2084'),\n",
       " ('STM4061', 'STM1497'),\n",
       " ('STM4061', 'STM2104'),\n",
       " ('STM4061', 'STM0108'),\n",
       " ('STM4061', 'STM4307'),\n",
       " ('STM4061', 'STM0107'),\n",
       " ('STM4061', 'STM0106'),\n",
       " ('STM4061', 'STM3708'),\n",
       " ('STM4061', 'STM2083'),\n",
       " ('STM4061', 'STM2530'),\n",
       " ('STM4061', 'STM2971'),\n",
       " ('STM4061', 'STM0966'),\n",
       " ('STM4061', 'STM3244'),\n",
       " ('STM4061', 'STM0964'),\n",
       " ('STM4061', 'STM3905'),\n",
       " ('STM4061', 'STM1496'),\n",
       " ('STM4061', 'STM1826'),\n",
       " ('STM4061', 'STM1556'),\n",
       " ('STM4061', 'STM0787'),\n",
       " ('STM4061', 'STM0788'),\n",
       " ('STM4061', 'STM1333'),\n",
       " ('STM4061', 'STM0364'),\n",
       " ('STM4061', 'STM3959'),\n",
       " ('STM4061', 'STM2341'),\n",
       " ('STM4061', 'STM2340'),\n",
       " ('STM4061', 'STM2774'),\n",
       " ('STM4061', 'STM3792'),\n",
       " ('STM4061', 'STM3333'),\n",
       " ('STM4061', 'STM3334'),\n",
       " ('STM4061', 'STM2474'),\n",
       " ('STM4061', 'STM1341'),\n",
       " ('STM4061', 'STM4433'),\n",
       " ('STM4061', 'STM1627'),\n",
       " ('STM4061', 'STM4425'),\n",
       " ('STM4061', 'STM1567'),\n",
       " ('STM4061', 'STM2461'),\n",
       " ('STM4061', 'STM4421'),\n",
       " ('STM4061', 'STM0434'),\n",
       " ('STM4061', 'STM1316'),\n",
       " ('STM4061', 'STM4420'),\n",
       " ('STM4061', 'STM2289'),\n",
       " ('STM4061', 'STM2573'),\n",
       " ('STM4061', 'STM2949'),\n",
       " ('STM4061', 'STM0628'),\n",
       " ('STM4061', 'STM1793'),\n",
       " ('STM4061', 'STM1792'),\n",
       " ('STM4061', 'STM0691'),\n",
       " ('STM4061', 'STM0690'),\n",
       " ('STM4061', 'STM1314'),\n",
       " ('STM4061', 'STM0741'),\n",
       " ('STM4061', 'STM1312'),\n",
       " ('STM4061', 'STM0740'),\n",
       " ('STM4061', 'STM1313'),\n",
       " ('STM4061', 'STM1582'),\n",
       " ('STM4061', 'STM2662'),\n",
       " ('STM4061', 'STM1651'),\n",
       " ('STM4061', 'STM3261'),\n",
       " ('STM4061', 'STM2016'),\n",
       " ('STM4061', 'STM1221'),\n",
       " ('STM4061', 'STM3253'),\n",
       " ('STM4061', 'STM2079'),\n",
       " ('STM4061', 'STM3137'),\n",
       " ('STM4061', 'STM0589'),\n",
       " ('STM4061', 'STM3135'),\n",
       " ('STM4061', 'STM3927'),\n",
       " ('STM4061', 'STM3136'),\n",
       " ('STM4061', 'STM2776'),\n",
       " ('STM4061', 'STM2777'),\n",
       " ('STM4061', 'STM2775'),\n",
       " ('STM4061', 'STM0054'),\n",
       " ('STM4061', 'STM0586'),\n",
       " ('STM4061', 'STM3186'),\n",
       " ('STM4061', 'STM3353'),\n",
       " ('STM4061', 'STM2773'),\n",
       " ('STM4061', 'STM3351'),\n",
       " ('STM4061', 'STM1375'),\n",
       " ('STM4061', 'STM0056'),\n",
       " ('STM4061', 'STM0055'),\n",
       " ('STM4061', 'STM1215'),\n",
       " ('STM4061', 'STM3352'),\n",
       " ('STM4061', 'STM0837'),\n",
       " ('STM4061', 'STM0057'),\n",
       " ('STM4061', 'STM0689'),\n",
       " ('STM4061', 'STM0047'),\n",
       " ('STM4061', 'STM3002'),\n",
       " ('STM4061', 'STM2786'),\n",
       " ('STM4061', 'STM3828'),\n",
       " ('STM4061', 'STM2788'),\n",
       " ('STM4061', 'STM0791'),\n",
       " ('STM4061', 'STM2787'),\n",
       " ('STM4061', 'STM3051'),\n",
       " ('STM4061', 'STM1377'),\n",
       " ('STM4061', 'STM0666'),\n",
       " ('STM4061', 'STM1257'),\n",
       " ('STM4061', 'STM2392'),\n",
       " ('STM4061', 'STM1255'),\n",
       " ('STM4061', 'STM2393'),\n",
       " ('STM4061', 'STM1746_S'),\n",
       " ('STM4061', 'STM1259'),\n",
       " ('STM4061', 'STM1256'),\n",
       " ('STM4061', 'STM2838_S'),\n",
       " ('STM4061', 'STM1258'),\n",
       " ('STM4061', 'STM4456'),\n",
       " ('STM4061', 'STM4383_S'),\n",
       " ('STM4061', 'STM3259'),\n",
       " ('STM4061', 'STM4188_S'),\n",
       " ('STM4061', 'STM3258'),\n",
       " ('STM4061', 'STM3260'),\n",
       " ('STM4061', 'STM2323_S'),\n",
       " ('STM4061', 'STM3255'),\n",
       " ('STM4061', 'STM2316_S'),\n",
       " ('STM4061', 'STM3256'),\n",
       " ('STM4061', 'STM4580_S'),\n",
       " ('STM4061', 'STM3254'),\n",
       " ('STM4061', 'STM4559_S'),\n",
       " ('STM4061', 'STM4278_S'),\n",
       " ('STM4061', 'STM2864'),\n",
       " ('STM4061', 'STM1892_S'),\n",
       " ('STM4061', 'STM2861'),\n",
       " ('STM4061', 'STM2105_S'),\n",
       " ('STM4061', 'STM2862'),\n",
       " ('STM4061', 'STM4305_S'),\n",
       " ('STM4061', 'STM4424_S'),\n",
       " ('STM4061', 'STM3506'),\n",
       " ('STM4061', 'STM2863'),\n",
       " ('STM4061', 'STM1383'),\n",
       " ('STM4061', 'STM1384'),\n",
       " ('STM4061', 'STM1385'),\n",
       " ('STM4061', 'STM2065'),\n",
       " ('STM4061', 'STM2064'),\n",
       " ('STM4061', 'STM2063'),\n",
       " ('STM4061', 'STM2549'),\n",
       " ('STM4061', 'STM2550'),\n",
       " ('STM4061', 'STM2548'),\n",
       " ('STM4061', 'STM3763'),\n",
       " ('STM4064', 'STM4227'),\n",
       " ('STM4064', 'STM4228'),\n",
       " ('STM4064', 'STM4230'),\n",
       " ('STM4064', 'STM4229'),\n",
       " ('STM4064', 'STM4231'),\n",
       " ('STM4064', 'STM4403'),\n",
       " ('STM4064', 'STM1831'),\n",
       " ('STM4064', 'STM1830'),\n",
       " ('STM4064', 'STM3338'),\n",
       " ('STM4064', 'STM3009'),\n",
       " ('STM4064', 'STM3010'),\n",
       " ('STM4064', 'STM1779'),\n",
       " ('STM4064', 'STM3339'),\n",
       " ('STM4064', 'STM0309'),\n",
       " ('STM4064', 'STM1427'),\n",
       " ('STM4064', 'STM3646')]"
      ]
     },
     "execution_count": 9,
     "metadata": {},
     "output_type": "execute_result"
    }
   ],
   "source": [
    "twogene[21887:22066]"
   ]
  },
  {
   "cell_type": "code",
   "execution_count": null,
   "id": "41cfb66a",
   "metadata": {},
   "outputs": [],
   "source": []
  }
 ],
 "metadata": {
  "kernelspec": {
   "display_name": "Python 3 (ipykernel)",
   "language": "python",
   "name": "python3"
  },
  "language_info": {
   "codemirror_mode": {
    "name": "ipython",
    "version": 3
   },
   "file_extension": ".py",
   "mimetype": "text/x-python",
   "name": "python",
   "nbconvert_exporter": "python",
   "pygments_lexer": "ipython3",
   "version": "3.8.16"
  }
 },
 "nbformat": 4,
 "nbformat_minor": 5
}
