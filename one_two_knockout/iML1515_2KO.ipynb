{
 "cells": [
  {
   "cell_type": "code",
   "execution_count": 1,
   "id": "f1d5f394-f7e9-4611-9bc0-6dbf9fbfed51",
   "metadata": {},
   "outputs": [
    {
     "name": "stdout",
     "output_type": "stream",
     "text": [
      "Scaling...\n",
      " A: min|aij| =  1.000e+00  max|aij| =  1.000e+00  ratio =  1.000e+00\n",
      "Problem data seem to be well scaled\n"
     ]
    }
   ],
   "source": [
    "import cobra\n",
    "model = cobra.io.read_sbml_model('/data1/xpgeng/cross_pathogen/GEM_model/iML1515.xml')"
   ]
  },
  {
   "cell_type": "code",
   "execution_count": 2,
   "id": "704e5676-1aae-4ed1-8b8c-d6786f3b8490",
   "metadata": {},
   "outputs": [
    {
     "name": "stdout",
     "output_type": "stream",
     "text": [
      "1516\n"
     ]
    }
   ],
   "source": [
    "import csv\n",
    "one_gene = {}\n",
    "with open('/data1/xpgeng/cross_pathogen/one_two_knockout/' +'iML1515_1KO_growth', 'r') as csvfile:\n",
    "    reader = csv.reader(csvfile)\n",
    "    next(reader) \n",
    "    for row in reader:\n",
    "        #print(len(row))\n",
    "        if len(row) == 4:            \n",
    "            one_gene[row[0]] = int(row[3])           \n",
    "    print(len(one_gene)) "
   ]
  },
  {
   "cell_type": "code",
   "execution_count": 3,
   "id": "41376b2c-f931-44b7-9afb-766bac313637",
   "metadata": {},
   "outputs": [
    {
     "name": "stdout",
     "output_type": "stream",
     "text": [
      "1516\n"
     ]
    }
   ],
   "source": [
    "gene_list = []\n",
    "for k,v in one_gene.items():\n",
    "    gene_list.append(k)\n",
    "print(len(gene_list))"
   ]
  },
  {
   "cell_type": "code",
   "execution_count": 4,
   "id": "09df2a07",
   "metadata": {},
   "outputs": [],
   "source": [
    "gene_list.remove('s0001')"
   ]
  },
  {
   "cell_type": "code",
   "execution_count": 5,
   "id": "85d92cb8",
   "metadata": {},
   "outputs": [
    {
     "name": "stdout",
     "output_type": "stream",
     "text": [
      "1515\n"
     ]
    }
   ],
   "source": [
    "print(len(gene_list))"
   ]
  },
  {
   "cell_type": "markdown",
   "id": "75c3c94f",
   "metadata": {},
   "source": [
    "gene s0001 should be removed"
   ]
  },
  {
   "cell_type": "code",
   "execution_count": 6,
   "id": "1b46a777-a1b7-44bc-8c37-45d20a5a3c87",
   "metadata": {},
   "outputs": [],
   "source": [
    "from itertools import combinations\n",
    "twogene=list(combinations(gene_list,2))\n",
    "from tqdm import tqdm"
   ]
  },
  {
   "cell_type": "code",
   "execution_count": null,
   "id": "b5674aac-6383-41ce-88bd-e4bae971deb0",
   "metadata": {},
   "outputs": [
    {
     "name": "stderr",
     "output_type": "stream",
     "text": [
      "  0%|                      | 4066/1146855 [26:46<125:20:04,  2.53it/s]"
     ]
    }
   ],
   "source": [
    "with open('iML1515_2KO_growth', mode='a', newline='') as csvfile:\n",
    "    writer = csv.writer(csvfile)\n",
    "    firstrow = ['gene, label']\n",
    "    writer.writerow(firstrow)  \n",
    "\n",
    "    state_0   = cobra.flux_analysis.pfba(model)      \n",
    "    growth_0    = round(state_0['BIOMASS_Ec_iML1515_core_75p37M'], 3)\n",
    "\n",
    "    for i in tqdm(twogene):   \n",
    "        with model:                \n",
    "            try:            \n",
    "                model.genes.get_by_id(i[0]).knock_out()\n",
    "                model.genes.get_by_id(i[1]).knock_out()\n",
    "                state_1   = cobra.flux_analysis.pfba(model)\n",
    "                growth_1    = round(state_1['BIOMASS_Ec_iML1515_core_75p37M'], 3)\n",
    "                if growth_1 < 0.1*growth_0:\n",
    "                    \n",
    "                    writer.writerow([i[0], i[1], growth_0, growth_1, 1]) \n",
    "                else:\n",
    "                    writer.writerow([i[0], i[1], growth_0, growth_1, 0])\n",
    "            except:\n",
    "                writer.writerow([i, 'fail'])"
   ]
  },
  {
   "cell_type": "code",
   "execution_count": 5,
   "id": "e2456a19-7296-4e19-a4c7-90cb5613487a",
   "metadata": {},
   "outputs": [
    {
     "name": "stdout",
     "output_type": "stream",
     "text": [
      "860012\n"
     ]
    }
   ],
   "source": [
    "two_gene = {}\n",
    "with open('/data1/xpgeng/cross_pathogen/FBA/' +'iML1515_2KO_growth', 'r') as csvfile:\n",
    "    reader = csv.reader(csvfile)\n",
    "    next(reader) \n",
    "    for row in reader:\n",
    "        #print(len(row))\n",
    "        if len(row) == 5:            \n",
    "            two_gene[row[0], row[1]] = int(row[4])           \n",
    "    print(len(two_gene)) "
   ]
  },
  {
   "cell_type": "code",
   "execution_count": 6,
   "id": "c927cc22-074c-48c6-970b-8ae5190ba822",
   "metadata": {},
   "outputs": [
    {
     "name": "stdout",
     "output_type": "stream",
     "text": [
      "['b2551', 'b0907', 'b2551', 'b4388', 'b2551', 'b2913', 'b0870', 'b0907', 'b0870', 'b2320', 'b2436', 'b3867', 'b3500', 'b0888', 'b2465', 'b2935', 'b2836', 'b0954', 'b4054', 'b0928', 'b3281', 'b1692', 'b0844', 'b3812', 'b0126', 'b0339', 'b2508', 'b0238', 'b2508', 'b2868', 'b2508', 'b2867', 'b2508', 'b2866', 'b3846', 'b0954', 'b0474', 'b4383', 'b0474', 'b1207', 'b0474', 'b4094', 'b3008', 'b1622', 'b1190', 'b4053', 'b0910', 'b0171', 'b3926', 'b3608', 'b4383', 'b1207', 'b2708', 'b3197', 'b0077', 'b3671', 'b0077', 'b3670', 'b0078', 'b3671', 'b0078', 'b3670', 'b1849', 'b2500', 'b0099', 'b1865', 'b3386', 'b2029', 'b0073', 'b1800', 'b2421', 'b2414', 'b0002', 'b3940', 'b1096', 'b4039', 'b3117', 'b3772', 'b0273', 'b4254', 'b3744', 'b0674', 'b3608', 'b1727', 'b1207', 'b4094', 'b2422', 'b0763', 'b2422', 'b0764', 'b2422', 'b0765', 'b0763', 'b2423', 'b0763', 'b2424', 'b0764', 'b2423', 'b0764', 'b2424', 'b2423', 'b0765', 'b0765', 'b2424', 'b3213', 'b1761', 'b1761', 'b3212', 'b0452', 'b0954', 'b0048', 'b1606', 'b3390', 'b0388', 'b0092', 'b0381', 'b3829', 'b4019', 'b2914', 'b4090', 'b1680', 'b2529', 'b1680', 'b2528', 'b3396', 'b0149', 'b4041', 'b1090', 'b4041', 'b3059', 'b1276', 'b0118', 'b1592', 'b0155', 'b0684', 'b2895', 'b1378', 'b3924', 'b2529', 'b1683', 'b2529', 'b1684', 'b2529', 'b1682', 'b2529', 'b1681', 'b2529', 'b1679', 'b1683', 'b2528', 'b1684', 'b2528', 'b1682', 'b2528', 'b1681', 'b2528', 'b2528', 'b1679']\n"
     ]
    }
   ],
   "source": [
    "two_list = []\n",
    "for k,v in two_gene.items():\n",
    "    if v == 1:\n",
    "        two_list.append(k[0])\n",
    "        two_list.append(k[1])\n",
    "print(two_list)"
   ]
  },
  {
   "cell_type": "code",
   "execution_count": null,
   "id": "1a3175dd-f687-4f81-9d57-7c4714561f09",
   "metadata": {},
   "outputs": [],
   "source": []
  }
 ],
 "metadata": {
  "kernelspec": {
   "display_name": "Python 3 (ipykernel)",
   "language": "python",
   "name": "python3"
  },
  "language_info": {
   "codemirror_mode": {
    "name": "ipython",
    "version": 3
   },
   "file_extension": ".py",
   "mimetype": "text/x-python",
   "name": "python",
   "nbconvert_exporter": "python",
   "pygments_lexer": "ipython3",
   "version": "3.8.16"
  }
 },
 "nbformat": 4,
 "nbformat_minor": 5
}
