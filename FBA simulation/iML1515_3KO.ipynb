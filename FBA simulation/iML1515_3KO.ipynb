{
 "cells": [
  {
   "cell_type": "markdown",
   "id": "afe3faa4",
   "metadata": {},
   "source": [
    "### Knock Out "
   ]
  },
  {
   "cell_type": "code",
   "execution_count": 1,
   "id": "43272b98",
   "metadata": {},
   "outputs": [
    {
     "name": "stdout",
     "output_type": "stream",
     "text": [
      "Scaling...\n",
      " A: min|aij| =  1.000e+00  max|aij| =  1.000e+00  ratio =  1.000e+00\n",
      "Problem data seem to be well scaled\n"
     ]
    }
   ],
   "source": [
    "import cobra\n",
    "model = cobra.io.read_sbml_model('/data1/xpgeng/cross_pathogen/GEM_model/iML1515.xml')"
   ]
  },
  {
   "cell_type": "code",
   "execution_count": 2,
   "id": "1943b5d1",
   "metadata": {},
   "outputs": [
    {
     "name": "stdout",
     "output_type": "stream",
     "text": [
      "1516\n"
     ]
    }
   ],
   "source": [
    "import csv\n",
    "one_gene = {}\n",
    "with open('/data1/xpgeng/cross_pathogen/one_two_knockout/' +'iML1515_1KO_growth', 'r') as csvfile:\n",
    "    reader = csv.reader(csvfile)\n",
    "    next(reader) \n",
    "    for row in reader:\n",
    "        #print(len(row))\n",
    "        if len(row) == 4:            \n",
    "            one_gene[row[0]] = int(row[3])           \n",
    "    print(len(one_gene)) "
   ]
  },
  {
   "cell_type": "code",
   "execution_count": 3,
   "id": "f8ff3632",
   "metadata": {},
   "outputs": [
    {
     "name": "stdout",
     "output_type": "stream",
     "text": [
      "1515\n"
     ]
    }
   ],
   "source": [
    "gene_list = []\n",
    "for k,v in one_gene.items():\n",
    "    gene_list.append(k)\n",
    "gene_list.remove('s0001')\n",
    "gene_list = sorted(gene_list)\n",
    "print(len(gene_list))"
   ]
  },
  {
   "cell_type": "code",
   "execution_count": 4,
   "id": "39741dc8",
   "metadata": {},
   "outputs": [],
   "source": [
    "gene_dic = {}\n",
    "for i in range(1515):\n",
    "    gene_dic[gene_list[i]] = i"
   ]
  },
  {
   "cell_type": "code",
   "execution_count": 5,
   "id": "4dd7c73e",
   "metadata": {},
   "outputs": [],
   "source": [
    "import csv\n",
    "from itertools import combinations\n",
    "from tqdm import tqdm\n",
    "import cobra.flux_analysis\n",
    "from multiprocessing import Pool\n",
    "\n",
    "# Adjust the function to use model and gene_list as arguments\n",
    "def knockout(gene, gene_list, model):\n",
    "    \n",
    "    rest_list = gene_list[gene_dic[gene]+1:]\n",
    "    twogene = list(combinations(rest_list, 2))\n",
    "    \n",
    "    filepath = f'iML1515_{gene}.csv'\n",
    "\n",
    "    with open('/data1/xpgeng/cross_pathogen/FBA/iML1515-3KO/' + filepath, mode='a', newline='') as csvfile:\n",
    "        writer = csv.writer(csvfile)\n",
    "        writer.writerow(['Gene', 'Gene1', 'Gene2', 'Initial Growth', 'Altered Growth', 'Label'])\n",
    "\n",
    "        initial_state = cobra.flux_analysis.pfba(model)\n",
    "        initial_growth = round(initial_state.fluxes['BIOMASS_Ec_iML1515_core_75p37M'], 3)\n",
    "\n",
    "        for gene1, gene2 in tqdm(twogene):\n",
    "            with model:\n",
    "                try:\n",
    "                    model.genes.get_by_id(gene).knock_out()\n",
    "                    model.genes.get_by_id(gene1).knock_out()\n",
    "                    model.genes.get_by_id(gene2).knock_out()\n",
    "                    altered_state = cobra.flux_analysis.pfba(model)\n",
    "                    altered_growth = round(altered_state.fluxes['BIOMASS_Ec_iML1515_core_75p37M'], 3)\n",
    "                    label = 1 if altered_growth < 0.1 * initial_growth else 0\n",
    "                    writer.writerow([gene, gene1, gene2, initial_growth, altered_growth, label])\n",
    "                except Exception as e:\n",
    "                    writer.writerow([gene, gene1, gene2, 'Failed', str(e)])"
   ]
  },
  {
   "cell_type": "code",
   "execution_count": null,
   "id": "4634b914",
   "metadata": {},
   "outputs": [
    {
     "name": "stderr",
     "output_type": "stream",
     "text": [
      "  0%|                                       | 1/77421 [00:00<8:09:41,  2.63it/s]"
     ]
    }
   ],
   "source": [
    "def run_knockouts(gene_list, model):\n",
    "    # Slice the first 100 genes from the list\n",
    "    top_genes = gene_list[1000:]\n",
    "    \n",
    "    # Create a multiprocessing pool with 100 workers\n",
    "    with Pool(100) as pool:\n",
    "        # Each pool worker will execute the `knockout` function with a gene, the full gene list, and the model\n",
    "        results = pool.starmap(knockout, [(gene, gene_list, model) for gene in top_genes])\n",
    "\n",
    "if __name__ == \"__main__\":\n",
    "    run_knockouts(gene_list, model)"
   ]
  },
  {
   "cell_type": "markdown",
   "id": "d7de6209",
   "metadata": {},
   "source": [
    "### Merge All Data "
   ]
  },
  {
   "cell_type": "code",
   "execution_count": 9,
   "id": "66ae9b86",
   "metadata": {},
   "outputs": [
    {
     "name": "stderr",
     "output_type": "stream",
     "text": [
      "100%|███████████████████████████████████████| 1516/1516 [35:05<00:00,  1.39s/it]"
     ]
    },
    {
     "name": "stdout",
     "output_type": "stream",
     "text": [
      "ok saved in /data1/xpgeng/cross_pathogen/FBA/iML1515_all.csv\n"
     ]
    },
    {
     "name": "stderr",
     "output_type": "stream",
     "text": [
      "\n"
     ]
    }
   ],
   "source": [
    "# combine all data\n",
    "from tqdm import tqdm\n",
    "import os\n",
    "import csv\n",
    "\n",
    "# 文件夹路径\n",
    "folder_path = '/data1/xpgeng/cross_pathogen/FBA/iML1515-3KO/'\n",
    "\n",
    "# 输出文件路径\n",
    "output_file = os.path.join('/data1/xpgeng/cross_pathogen/FBA/', 'iML1515_all.csv')\n",
    "\n",
    "filter_keywords = ['Fail', 'b2092', 'b4104']\n",
    "\n",
    "# 打开输出文件准备写入\n",
    "with open(output_file, mode='w', newline='', encoding='utf-8') as outfile:\n",
    "    writer = csv.writer(outfile)\n",
    "    \n",
    "    # 不写入header\n",
    "    #writer.writerow(['gene1', 'gene2', 'gene3', 'label'])\n",
    "\n",
    "    # 遍历文件夹中的所有 CSV 文件\n",
    "    for filename in tqdm(os.listdir(folder_path)):\n",
    "        if filename.endswith('.csv'):  # 筛选 .csv 文件\n",
    "            file_path = os.path.join(folder_path, filename)\n",
    "            \n",
    "            # 读取文件并逐行处理\n",
    "            with open(file_path, mode='r', encoding='utf-8') as infile:\n",
    "                reader = csv.reader(infile)\n",
    "                for i, row in enumerate(reader):\n",
    "                    # 跳过原始文件的表头\n",
    "                    if i == 0:\n",
    "                        continue\n",
    "                    \n",
    "                    # 如果该行不包含 'Fail', 'b2092', 'b4104'，写入到输出文件\n",
    "                    if not any(keyword in str(cell) for cell in row for keyword in filter_keywords):\n",
    "                        writer.writerow([row[0], row[1], row[2], row[5]])\n",
    "                #break\n",
    "\n",
    "print(f\"ok saved in {output_file}\")"
   ]
  },
  {
   "cell_type": "code",
   "execution_count": 10,
   "id": "82035642",
   "metadata": {},
   "outputs": [
    {
     "name": "stdout",
     "output_type": "stream",
     "text": [
      "Total rows in the file '/data1/xpgeng/cross_pathogen/FBA/iML1515_all.csv': 576107619\n"
     ]
    }
   ],
   "source": [
    "import pandas as pd\n",
    "\n",
    "# 文件路径\n",
    "file_path = '/data1/xpgeng/cross_pathogen/FBA/iML1515_all.csv'\n",
    "\n",
    "# 读取 CSV 文件\n",
    "df = pd.read_csv(file_path, header=None)  # 如果没有表头，使用 header=None\n",
    "\n",
    "# 输出行数\n",
    "num_rows = len(df)\n",
    "print(f\"Total rows in the file '{file_path}': {num_rows}\")"
   ]
  },
  {
   "cell_type": "markdown",
   "id": "d186b694",
   "metadata": {},
   "source": [
    "C(1513,3) = 576,108,036 \\\n",
    "417 data missing."
   ]
  },
  {
   "cell_type": "markdown",
   "id": "09491d6c",
   "metadata": {},
   "source": [
    "### Split the data into 10 parts "
   ]
  },
  {
   "cell_type": "code",
   "execution_count": 1,
   "id": "e6811653",
   "metadata": {},
   "outputs": [
    {
     "name": "stdout",
     "output_type": "stream",
     "text": [
      "Data successfully split into 10 parts and saved in /data1/xpgeng/cross_pathogen/FBA/iML1515_parts/\n"
     ]
    }
   ],
   "source": [
    "import pandas as pd\n",
    "import os\n",
    "\n",
    "# 读取最终合并的 CSV 文件\n",
    "input_file = '/data1/xpgeng/cross_pathogen/FBA/iML1515_all.csv'\n",
    "output_folder = '/data1/xpgeng/cross_pathogen/FBA/iML1515_parts/'\n",
    "\n",
    "# 读取 CSV 文件，假设没有表头\n",
    "df = pd.read_csv(input_file, header=None)\n",
    "\n",
    "# 打乱数据\n",
    "df = df.sample(frac=1, random_state=42).reset_index(drop=True)\n",
    "\n",
    "# 计算每份数据的大小\n",
    "num_splits = 10\n",
    "split_size = len(df) // num_splits\n",
    "\n",
    "# 划分数据并保存\n",
    "for i in range(num_splits):\n",
    "    # 为每一份计算开始和结束的索引\n",
    "    start_idx = i * split_size\n",
    "    # 最后一份可能包含剩余所有数据\n",
    "    end_idx = (i + 1) * split_size if i < num_splits - 1 else len(df)\n",
    "    \n",
    "    # 获取数据\n",
    "    df_split = df.iloc[start_idx:end_idx]\n",
    "\n",
    "    # 输出文件名\n",
    "    output_file = os.path.join(output_folder, f'iML1515-{i+1}.csv')\n",
    "    \n",
    "    # 保存数据到文件\n",
    "    df_split.to_csv(output_file, index=False, header=False)\n",
    "\n",
    "print(f\"Data successfully split into {num_splits} parts and saved in {output_folder}\")"
   ]
  },
  {
   "cell_type": "code",
   "execution_count": 2,
   "id": "fe194443",
   "metadata": {
    "scrolled": true
   },
   "outputs": [
    {
     "name": "stdout",
     "output_type": "stream",
     "text": [
      "First 3 rows of iML1515-1.csv:\n",
      "       0      1      2  3\n",
      "0  b2425  b2484  b3942  0\n",
      "1  b0085  b3744  b4209  1\n",
      "2  b1524  b3008  b4407  1\n",
      "Total rows in iML1515-1.csv: 57610761\n",
      "\n",
      "==================================================\n",
      "\n",
      "First 3 rows of iML1515-2.csv:\n",
      "       0      1      2  3\n",
      "0  b2540  b2838  b3256  1\n",
      "1  b2507  b3374  b3727  1\n",
      "2  b2788  b3607  b4254  1\n",
      "Total rows in iML1515-2.csv: 57610761\n",
      "\n",
      "==================================================\n",
      "\n",
      "First 3 rows of iML1515-3.csv:\n",
      "       0      1      2  3\n",
      "0  b0315  b1587  b3880  0\n",
      "1  b2312  b3089  b3909  1\n",
      "2  b2053  b3177  b3784  1\n",
      "Total rows in iML1515-3.csv: 57610761\n",
      "\n",
      "==================================================\n",
      "\n",
      "First 3 rows of iML1515-4.csv:\n",
      "       0      1      2  3\n",
      "0  b0125  b0158  b1033  0\n",
      "1  b1101  b3656  b4006  1\n",
      "2  b1019  b1812  b4019  1\n",
      "Total rows in iML1515-4.csv: 57610761\n",
      "\n",
      "==================================================\n",
      "\n",
      "First 3 rows of iML1515-5.csv:\n",
      "       0      1      2  3\n",
      "0  b0789  b3128  b4077  0\n",
      "1  b0040  b0315  b2097  0\n",
      "2  b0325  b1054  b2173  0\n",
      "Total rows in iML1515-5.csv: 57610761\n",
      "\n",
      "==================================================\n",
      "\n",
      "First 3 rows of iML1515-6.csv:\n",
      "       0      1      2  3\n",
      "0  b0734  b2284  b3952  0\n",
      "1  b0149  b2670  b3478  0\n",
      "2  b0733  b1638  b2913  0\n",
      "Total rows in iML1515-6.csv: 57610761\n",
      "\n",
      "==================================================\n",
      "\n",
      "First 3 rows of iML1515-7.csv:\n",
      "       0      1      2  3\n",
      "0  b1605  b1694  b3617  0\n",
      "1  b0388  b1297  b3374  0\n",
      "2  b0734  b1336  b3794  0\n",
      "Total rows in iML1515-7.csv: 57610761\n",
      "\n",
      "==================================================\n",
      "\n",
      "First 3 rows of iML1515-8.csv:\n",
      "       0      1      2  3\n",
      "0  b1232  b3502  b3572  0\n",
      "1  b1378  b2738  b2934  0\n",
      "2  b3751  b3990  b4085  1\n",
      "Total rows in iML1515-8.csv: 57610761\n",
      "\n",
      "==================================================\n",
      "\n",
      "First 3 rows of iML1515-9.csv:\n",
      "       0      1      2  3\n",
      "0  b1771  b2934  b3640  0\n",
      "1  b1521  b2428  b4079  0\n",
      "2  b0978  b3788  b3972  1\n",
      "Total rows in iML1515-9.csv: 57610761\n",
      "\n",
      "==================================================\n",
      "\n",
      "First 3 rows of iML1515-10.csv:\n",
      "       0      1      2  3\n",
      "0  b0915  b0937  b4356  1\n",
      "1  b0734  b1059  b1260  1\n",
      "2  b0089  b1991  b2251  1\n",
      "Total rows in iML1515-10.csv: 57610770\n",
      "\n",
      "==================================================\n",
      "\n",
      "Total rows across all files: 576107619\n"
     ]
    }
   ],
   "source": [
    "import pandas as pd\n",
    "import os\n",
    "\n",
    "# 文件夹路径\n",
    "folder_path = '/data1/xpgeng/cross_pathogen/FBA/iML1515_parts/'\n",
    "\n",
    "# 初始化行数总和\n",
    "total_rows = 0\n",
    "\n",
    "# 遍历文件夹中的所有 CSV 文件\n",
    "for filename in os.listdir(folder_path):\n",
    "    if filename.endswith('.csv'):  # 筛选 .csv 文件\n",
    "        file_path = os.path.join(folder_path, filename)\n",
    "        \n",
    "        # 读取 CSV 文件\n",
    "        df = pd.read_csv(file_path, header=None)  # 如果没有表头，使用 header=None\n",
    "        \n",
    "        # 计算当前文件的行数\n",
    "        num_rows = len(df)\n",
    "        \n",
    "        # 更新总行数\n",
    "        total_rows += num_rows\n",
    "        \n",
    "        # 输出文件名和前 3 行数据\n",
    "        print(f\"First 3 rows of {filename}:\")\n",
    "        print(df.head(3))  # 显示前 3 行\n",
    "        print(f\"Total rows in {filename}: {num_rows}\")\n",
    "        print(\"\\n\" + \"=\"*50 + \"\\n\")\n",
    "\n",
    "# 输出所有文件的总行数\n",
    "print(f\"Total rows across all files: {total_rows}\")"
   ]
  },
  {
   "cell_type": "code",
   "execution_count": null,
   "id": "d5a6cc0e",
   "metadata": {},
   "outputs": [],
   "source": []
  },
  {
   "cell_type": "code",
   "execution_count": null,
   "id": "9ff4eb5a",
   "metadata": {},
   "outputs": [],
   "source": []
  },
  {
   "cell_type": "code",
   "execution_count": 4,
   "id": "b039d3e2",
   "metadata": {},
   "outputs": [],
   "source": [
    "from itertools import combinations\n",
    "twogene=list(combinations(gene_list,2))\n",
    "from tqdm import tqdm"
   ]
  },
  {
   "cell_type": "code",
   "execution_count": 6,
   "id": "3ee6d0e5",
   "metadata": {},
   "outputs": [
    {
     "name": "stderr",
     "output_type": "stream",
     "text": [
      "100%|████████████████████████████████| 860016/860016 [63:12:54<00:00,  3.78it/s]\n"
     ]
    }
   ],
   "source": [
    "with open('iML1515_2KO_growth', mode='a', newline='') as csvfile:\n",
    "    writer = csv.writer(csvfile)\n",
    "    firstrow = ['gene, label']\n",
    "    writer.writerow(firstrow)  \n",
    "\n",
    "    state_0   = cobra.flux_analysis.pfba(model)      \n",
    "    growth_0    = round(state_0['BIOMASS_Ec_iML1515_core_75p37M'], 3)\n",
    "\n",
    "    for i in tqdm(twogene):   \n",
    "        with model:                \n",
    "            try:            \n",
    "                model.genes.get_by_id(i[0]).knock_out()\n",
    "                model.genes.get_by_id(i[1]).knock_out()\n",
    "                state_1   = cobra.flux_analysis.pfba(model)\n",
    "                growth_1    = round(state_1['BIOMASS_Ec_iML1515_core_75p37M'], 3)\n",
    "                if growth_1 < 0.5*growth_0:\n",
    "                    \n",
    "                    writer.writerow([i[0], i[1], growth_0, growth_1, 1]) \n",
    "                else:\n",
    "                    writer.writerow([i[0], i[1], growth_0, growth_1, 0])\n",
    "            except:\n",
    "                writer.writerow([i, 'fail'])"
   ]
  },
  {
   "cell_type": "code",
   "execution_count": 5,
   "id": "6d7239f2",
   "metadata": {},
   "outputs": [
    {
     "name": "stdout",
     "output_type": "stream",
     "text": [
      "860012\n"
     ]
    }
   ],
   "source": [
    "two_gene = {}\n",
    "with open('/data1/xpgeng/cross_pathogen/FBA/' +'iML1515_2KO_growth', 'r') as csvfile:\n",
    "    reader = csv.reader(csvfile)\n",
    "    next(reader) \n",
    "    for row in reader:\n",
    "        #print(len(row))\n",
    "        if len(row) == 5:            \n",
    "            two_gene[row[0], row[1]] = int(row[4])           \n",
    "    print(len(two_gene)) "
   ]
  },
  {
   "cell_type": "code",
   "execution_count": 6,
   "id": "aae50a35",
   "metadata": {},
   "outputs": [
    {
     "name": "stdout",
     "output_type": "stream",
     "text": [
      "['b2551', 'b0907', 'b2551', 'b4388', 'b2551', 'b2913', 'b0870', 'b0907', 'b0870', 'b2320', 'b2436', 'b3867', 'b3500', 'b0888', 'b2465', 'b2935', 'b2836', 'b0954', 'b4054', 'b0928', 'b3281', 'b1692', 'b0844', 'b3812', 'b0126', 'b0339', 'b2508', 'b0238', 'b2508', 'b2868', 'b2508', 'b2867', 'b2508', 'b2866', 'b3846', 'b0954', 'b0474', 'b4383', 'b0474', 'b1207', 'b0474', 'b4094', 'b3008', 'b1622', 'b1190', 'b4053', 'b0910', 'b0171', 'b3926', 'b3608', 'b4383', 'b1207', 'b2708', 'b3197', 'b0077', 'b3671', 'b0077', 'b3670', 'b0078', 'b3671', 'b0078', 'b3670', 'b1849', 'b2500', 'b0099', 'b1865', 'b3386', 'b2029', 'b0073', 'b1800', 'b2421', 'b2414', 'b0002', 'b3940', 'b1096', 'b4039', 'b3117', 'b3772', 'b0273', 'b4254', 'b3744', 'b0674', 'b3608', 'b1727', 'b1207', 'b4094', 'b2422', 'b0763', 'b2422', 'b0764', 'b2422', 'b0765', 'b0763', 'b2423', 'b0763', 'b2424', 'b0764', 'b2423', 'b0764', 'b2424', 'b2423', 'b0765', 'b0765', 'b2424', 'b3213', 'b1761', 'b1761', 'b3212', 'b0452', 'b0954', 'b0048', 'b1606', 'b3390', 'b0388', 'b0092', 'b0381', 'b3829', 'b4019', 'b2914', 'b4090', 'b1680', 'b2529', 'b1680', 'b2528', 'b3396', 'b0149', 'b4041', 'b1090', 'b4041', 'b3059', 'b1276', 'b0118', 'b1592', 'b0155', 'b0684', 'b2895', 'b1378', 'b3924', 'b2529', 'b1683', 'b2529', 'b1684', 'b2529', 'b1682', 'b2529', 'b1681', 'b2529', 'b1679', 'b1683', 'b2528', 'b1684', 'b2528', 'b1682', 'b2528', 'b1681', 'b2528', 'b2528', 'b1679']\n"
     ]
    }
   ],
   "source": [
    "two_list = []\n",
    "for k,v in two_gene.items():\n",
    "    if v == 1:\n",
    "        two_list.append(k[0])\n",
    "        two_list.append(k[1])\n",
    "print(two_list)"
   ]
  },
  {
   "cell_type": "code",
   "execution_count": 24,
   "id": "1a9a242a",
   "metadata": {},
   "outputs": [
    {
     "name": "stdout",
     "output_type": "stream",
     "text": [
      "108\n"
     ]
    }
   ],
   "source": [
    "print(len(set(two_list)))"
   ]
  },
  {
   "cell_type": "code",
   "execution_count": null,
   "id": "b5f74670",
   "metadata": {},
   "outputs": [],
   "source": []
  }
 ],
 "metadata": {
  "kernelspec": {
   "display_name": "Python 3 (ipykernel)",
   "language": "python",
   "name": "python3"
  },
  "language_info": {
   "codemirror_mode": {
    "name": "ipython",
    "version": 3
   },
   "file_extension": ".py",
   "mimetype": "text/x-python",
   "name": "python",
   "nbconvert_exporter": "python",
   "pygments_lexer": "ipython3",
   "version": "3.8.16"
  }
 },
 "nbformat": 4,
 "nbformat_minor": 5
}
